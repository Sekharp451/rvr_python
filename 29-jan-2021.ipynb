{
 "cells": [
  {
   "cell_type": "markdown",
   "id": "prime-failure",
   "metadata": {},
   "source": [
    "### strings conti..\n",
    "## data structures in python\n",
    "#"
   ]
  },
  {
   "cell_type": "code",
   "execution_count": 4,
   "id": "persistent-crazy",
   "metadata": {},
   "outputs": [
    {
     "data": {
      "text/plain": [
       "'vvvrvr ecevvvv'"
      ]
     },
     "execution_count": 4,
     "metadata": {},
     "output_type": "execute_result"
    }
   ],
   "source": [
    "g='rvr ece'\n",
    "g.center(14,\"v\")"
   ]
  },
  {
   "cell_type": "code",
   "execution_count": 19,
   "id": "flexible-terminology",
   "metadata": {},
   "outputs": [
    {
     "data": {
      "text/plain": [
       "'my mail is:sekharpyla123@gmail.com'"
      ]
     },
     "execution_count": 19,
     "metadata": {},
     "output_type": "execute_result"
    }
   ],
   "source": [
    "a=\"my name is:{}\"\n",
    "name =\"sekhar pyla\"\n",
    "a.format(name)\n",
    "b=\"my roll is:{}\"\n",
    "roll = \"152\"\n",
    "b.format(roll)\n",
    "c=\"my mail is:{}\"\n",
    "mail = \"sekharpyla123@gmail.com\"\n",
    "c.format(mail)\n"
   ]
  },
  {
   "cell_type": "code",
   "execution_count": 18,
   "id": "painted-phenomenon",
   "metadata": {},
   "outputs": [
    {
     "data": {
      "text/plain": [
       "'my roll is:152'"
      ]
     },
     "execution_count": 18,
     "metadata": {},
     "output_type": "execute_result"
    }
   ],
   "source": [
    "a=\"my roll is:{}\"\n",
    "roll=\"152\"\n",
    "a.format(roll)\n"
   ]
  },
  {
   "cell_type": "code",
   "execution_count": 21,
   "id": "healthy-princess",
   "metadata": {},
   "outputs": [
    {
     "data": {
      "text/plain": [
       "False"
      ]
     },
     "execution_count": 21,
     "metadata": {},
     "output_type": "execute_result"
    }
   ],
   "source": [
    "a=\"ec123#\"\n",
    "a.isalnum()"
   ]
  },
  {
   "cell_type": "code",
   "execution_count": 25,
   "id": "curious-uruguay",
   "metadata": {},
   "outputs": [
    {
     "data": {
      "text/plain": [
       "False"
      ]
     },
     "execution_count": 25,
     "metadata": {},
     "output_type": "execute_result"
    }
   ],
   "source": [
    "a.isalpha()"
   ]
  },
  {
   "cell_type": "code",
   "execution_count": 27,
   "id": "absent-feature",
   "metadata": {},
   "outputs": [
    {
     "data": {
      "text/plain": [
       "'sekhar pyla'"
      ]
     },
     "execution_count": 27,
     "metadata": {},
     "output_type": "execute_result"
    }
   ],
   "source": [
    "name"
   ]
  },
  {
   "cell_type": "code",
   "execution_count": 29,
   "id": "extensive-ground",
   "metadata": {},
   "outputs": [
    {
     "data": {
      "text/plain": [
       "2"
      ]
     },
     "execution_count": 29,
     "metadata": {},
     "output_type": "execute_result"
    }
   ],
   "source": [
    "name.find('k')"
   ]
  },
  {
   "cell_type": "code",
   "execution_count": 33,
   "id": "false-portugal",
   "metadata": {},
   "outputs": [
    {
     "data": {
      "text/plain": [
       "9"
      ]
     },
     "execution_count": 33,
     "metadata": {},
     "output_type": "execute_result"
    }
   ],
   "source": [
    "name.find('la')"
   ]
  },
  {
   "cell_type": "code",
   "execution_count": 38,
   "id": "amateur-render",
   "metadata": {},
   "outputs": [
    {
     "data": {
      "text/plain": [
       "'hekhar pyla'"
      ]
     },
     "execution_count": 38,
     "metadata": {},
     "output_type": "execute_result"
    }
   ],
   "source": [
    "name.replace('s','h')"
   ]
  },
  {
   "cell_type": "code",
   "execution_count": 37,
   "id": "golden-testimony",
   "metadata": {},
   "outputs": [
    {
     "data": {
      "text/plain": [
       "'rocky'"
      ]
     },
     "execution_count": 37,
     "metadata": {},
     "output_type": "execute_result"
    }
   ],
   "source": [
    "name.replace('sekhar pyla','rocky')"
   ]
  },
  {
   "cell_type": "code",
   "execution_count": 39,
   "id": "intended-asbestos",
   "metadata": {},
   "outputs": [
    {
     "data": {
      "text/plain": [
       "'sekhjr pylj'"
      ]
     },
     "execution_count": 39,
     "metadata": {},
     "output_type": "execute_result"
    }
   ],
   "source": [
    "name.replace('a','j')"
   ]
  },
  {
   "cell_type": "code",
   "execution_count": 40,
   "id": "choice-behalf",
   "metadata": {
    "scrolled": true
   },
   "outputs": [
    {
     "data": {
      "text/plain": [
       "'SEKHAR PYLA'"
      ]
     },
     "execution_count": 40,
     "metadata": {},
     "output_type": "execute_result"
    }
   ],
   "source": [
    "name.swapcase()"
   ]
  },
  {
   "cell_type": "code",
   "execution_count": 57,
   "id": "conditional-reconstruction",
   "metadata": {},
   "outputs": [
    {
     "data": {
      "text/plain": [
       "'HELLO APZZDC'"
      ]
     },
     "execution_count": 57,
     "metadata": {},
     "output_type": "execute_result"
    }
   ],
   "source": [
    "#translate\n",
    "d={83:90}\n",
    "s=\"HELLO APSSDC\"\n",
    "s.translate(d)\n",
    "#chr(83)\n"
   ]
  },
  {
   "cell_type": "code",
   "execution_count": 8,
   "id": "welcome-wellington",
   "metadata": {},
   "outputs": [
    {
     "data": {
      "text/plain": [
       "True"
      ]
     },
     "execution_count": 8,
     "metadata": {},
     "output_type": "execute_result"
    }
   ],
   "source": [
    "# starts with\n",
    "s=\"APSSDC\"\n",
    "s.startswith('A')"
   ]
  },
  {
   "cell_type": "code",
   "execution_count": 13,
   "id": "identical-explorer",
   "metadata": {},
   "outputs": [
    {
     "data": {
      "text/plain": [
       "4"
      ]
     },
     "execution_count": 13,
     "metadata": {},
     "output_type": "execute_result"
    }
   ],
   "source": [
    "#INDEX\n",
    "s.index('DC')"
   ]
  },
  {
   "cell_type": "code",
   "execution_count": 15,
   "id": "superb-wisconsin",
   "metadata": {},
   "outputs": [
    {
     "data": {
      "text/plain": [
       "True"
      ]
     },
     "execution_count": 15,
     "metadata": {},
     "output_type": "execute_result"
    }
   ],
   "source": [
    "#ISUPPER\n",
    "s.isupper()"
   ]
  },
  {
   "cell_type": "code",
   "execution_count": 16,
   "id": "unsigned-blackberry",
   "metadata": {},
   "outputs": [
    {
     "data": {
      "text/plain": [
       "False"
      ]
     },
     "execution_count": 16,
     "metadata": {},
     "output_type": "execute_result"
    }
   ],
   "source": [
    "s.islower()"
   ]
  },
  {
   "cell_type": "code",
   "execution_count": 47,
   "id": "legal-handling",
   "metadata": {},
   "outputs": [
    {
     "name": "stdout",
     "output_type": "stream",
     "text": [
      "37\n"
     ]
    }
   ],
   "source": [
    "#calculate the length of the string?\n",
    "a=\" python programming for ece dept....!\"\n",
    "count=0\n",
    "for i in a:\n",
    "    count+=1\n",
    "print(count)"
   ]
  },
  {
   "cell_type": "code",
   "execution_count": 48,
   "id": "cordless-lancaster",
   "metadata": {},
   "outputs": [
    {
     "data": {
      "text/plain": [
       "'ece'"
      ]
     },
     "execution_count": 48,
     "metadata": {},
     "output_type": "execute_result"
    }
   ],
   "source": [
    "a[-13:-10]"
   ]
  },
  {
   "cell_type": "code",
   "execution_count": 68,
   "id": "after-florence",
   "metadata": {},
   "outputs": [
    {
     "name": "stdout",
     "output_type": "stream",
     "text": [
      "AbcdEfghIjklmO"
     ]
    }
   ],
   "source": [
    "s='abcdefghijklmo'\n",
    "s1='aeio'\n",
    "for i in s:\n",
    "    if i in s1:\n",
    "        print(i.swapcase(),end='')\n",
    "    else:\n",
    "        print(i,end='')\n"
   ]
  },
  {
   "cell_type": "markdown",
   "id": "charming-explosion",
   "metadata": {},
   "source": [
    "## task1\n",
    "###   - abc mno\n",
    "###   - def pqr\n"
   ]
  },
  {
   "cell_type": "markdown",
   "id": "liberal-executive",
   "metadata": {},
   "source": [
    "## DATA STRUCTURES  IN PYTHON PROGRAMMING"
   ]
  },
  {
   "cell_type": "markdown",
   "id": "legendary-crime",
   "metadata": {},
   "source": [
    "## LIST\n",
    "###   - stores different data types like strings"
   ]
  },
  {
   "cell_type": "code",
   "execution_count": 81,
   "id": "infectious-scenario",
   "metadata": {},
   "outputs": [
    {
     "data": {
      "text/plain": [
       "[1, 2, 3]"
      ]
     },
     "execution_count": 81,
     "metadata": {},
     "output_type": "execute_result"
    }
   ],
   "source": [
    "l1=['rvr','ece','152',[1,2,3]]\n",
    "l1[3]"
   ]
  },
  {
   "cell_type": "code",
   "execution_count": 72,
   "id": "solid-crime",
   "metadata": {},
   "outputs": [
    {
     "data": {
      "text/plain": [
       "'152'"
      ]
     },
     "execution_count": 72,
     "metadata": {},
     "output_type": "execute_result"
    }
   ],
   "source": [
    "l1[-1]"
   ]
  },
  {
   "cell_type": "code",
   "execution_count": 73,
   "id": "dated-hydrogen",
   "metadata": {},
   "outputs": [
    {
     "data": {
      "text/plain": [
       "['ece']"
      ]
     },
     "execution_count": 73,
     "metadata": {},
     "output_type": "execute_result"
    }
   ],
   "source": [
    "l1[1:2]"
   ]
  },
  {
   "cell_type": "code",
   "execution_count": 74,
   "id": "suspended-solomon",
   "metadata": {},
   "outputs": [
    {
     "data": {
      "text/plain": [
       "['ece', '152']"
      ]
     },
     "execution_count": 74,
     "metadata": {},
     "output_type": "execute_result"
    }
   ],
   "source": [
    "l1[1:3]"
   ]
  },
  {
   "cell_type": "code",
   "execution_count": 82,
   "id": "structural-storage",
   "metadata": {},
   "outputs": [
    {
     "data": {
      "text/plain": [
       "[1, 2, 3]"
      ]
     },
     "execution_count": 82,
     "metadata": {},
     "output_type": "execute_result"
    }
   ],
   "source": [
    "l1=['rvr','ece','152',[1,2,3]]\n",
    "l1[-1]"
   ]
  },
  {
   "cell_type": "code",
   "execution_count": 83,
   "id": "subtle-oakland",
   "metadata": {},
   "outputs": [
    {
     "data": {
      "text/plain": [
       "2"
      ]
     },
     "execution_count": 83,
     "metadata": {},
     "output_type": "execute_result"
    }
   ],
   "source": [
    "l1[-1][1]"
   ]
  },
  {
   "cell_type": "code",
   "execution_count": 85,
   "id": "cardiac-press",
   "metadata": {},
   "outputs": [],
   "source": [
    "a=\"SDC\"\n",
    "b=[1,2,3]\n",
    "del b"
   ]
  },
  {
   "cell_type": "code",
   "execution_count": 86,
   "id": "romance-somalia",
   "metadata": {},
   "outputs": [
    {
     "name": "stdout",
     "output_type": "stream",
     "text": [
      "SDC\n"
     ]
    }
   ],
   "source": [
    "print(a)"
   ]
  },
  {
   "cell_type": "code",
   "execution_count": 90,
   "id": "raised-milan",
   "metadata": {},
   "outputs": [
    {
     "data": {
      "text/plain": [
       "[[1, 2, 3], '152', 'ece', 'rvr']"
      ]
     },
     "execution_count": 90,
     "metadata": {},
     "output_type": "execute_result"
    }
   ],
   "source": [
    "l1.reverse()\n",
    "l1"
   ]
  },
  {
   "cell_type": "code",
   "execution_count": 91,
   "id": "explicit-building",
   "metadata": {},
   "outputs": [],
   "source": [
    "l1.append(\"sekhar\")"
   ]
  },
  {
   "cell_type": "code",
   "execution_count": 92,
   "id": "extraordinary-stone",
   "metadata": {},
   "outputs": [
    {
     "name": "stdout",
     "output_type": "stream",
     "text": [
      "[[1, 2, 3], '152', 'ece', 'rvr', 'sekhar']\n"
     ]
    }
   ],
   "source": [
    "print(l1)"
   ]
  },
  {
   "cell_type": "code",
   "execution_count": 95,
   "id": "related-ordinance",
   "metadata": {},
   "outputs": [
    {
     "data": {
      "text/plain": [
       "0"
      ]
     },
     "execution_count": 95,
     "metadata": {},
     "output_type": "execute_result"
    }
   ],
   "source": [
    "l1.count(2)"
   ]
  },
  {
   "cell_type": "code",
   "execution_count": 96,
   "id": "inappropriate-adapter",
   "metadata": {},
   "outputs": [
    {
     "data": {
      "text/plain": [
       "[[1, 2, 3], '152', 'ece', 'rvr', 'sekhar']"
      ]
     },
     "execution_count": 96,
     "metadata": {},
     "output_type": "execute_result"
    }
   ],
   "source": [
    "l1.copy()"
   ]
  },
  {
   "cell_type": "code",
   "execution_count": 97,
   "id": "tested-scratch",
   "metadata": {},
   "outputs": [],
   "source": [
    "l1.clear()"
   ]
  },
  {
   "cell_type": "code",
   "execution_count": 3,
   "id": "atlantic-lemon",
   "metadata": {},
   "outputs": [
    {
     "data": {
      "text/plain": [
       "18"
      ]
     },
     "execution_count": 3,
     "metadata": {},
     "output_type": "execute_result"
    }
   ],
   "source": [
    "g='ABCefg123@$%ABCabc'\n",
    "len(g)"
   ]
  },
  {
   "cell_type": "code",
   "execution_count": 9,
   "id": "owned-olive",
   "metadata": {},
   "outputs": [
    {
     "data": {
      "text/plain": [
       "['__abs__',\n",
       " '__add__',\n",
       " '__and__',\n",
       " '__bool__',\n",
       " '__ceil__',\n",
       " '__class__',\n",
       " '__delattr__',\n",
       " '__dir__',\n",
       " '__divmod__',\n",
       " '__doc__',\n",
       " '__eq__',\n",
       " '__float__',\n",
       " '__floor__',\n",
       " '__floordiv__',\n",
       " '__format__',\n",
       " '__ge__',\n",
       " '__getattribute__',\n",
       " '__getnewargs__',\n",
       " '__gt__',\n",
       " '__hash__',\n",
       " '__index__',\n",
       " '__init__',\n",
       " '__init_subclass__',\n",
       " '__int__',\n",
       " '__invert__',\n",
       " '__le__',\n",
       " '__lshift__',\n",
       " '__lt__',\n",
       " '__mod__',\n",
       " '__mul__',\n",
       " '__ne__',\n",
       " '__neg__',\n",
       " '__new__',\n",
       " '__or__',\n",
       " '__pos__',\n",
       " '__pow__',\n",
       " '__radd__',\n",
       " '__rand__',\n",
       " '__rdivmod__',\n",
       " '__reduce__',\n",
       " '__reduce_ex__',\n",
       " '__repr__',\n",
       " '__rfloordiv__',\n",
       " '__rlshift__',\n",
       " '__rmod__',\n",
       " '__rmul__',\n",
       " '__ror__',\n",
       " '__round__',\n",
       " '__rpow__',\n",
       " '__rrshift__',\n",
       " '__rshift__',\n",
       " '__rsub__',\n",
       " '__rtruediv__',\n",
       " '__rxor__',\n",
       " '__setattr__',\n",
       " '__sizeof__',\n",
       " '__str__',\n",
       " '__sub__',\n",
       " '__subclasshook__',\n",
       " '__truediv__',\n",
       " '__trunc__',\n",
       " '__xor__',\n",
       " 'as_integer_ratio',\n",
       " 'bit_length',\n",
       " 'conjugate',\n",
       " 'denominator',\n",
       " 'from_bytes',\n",
       " 'imag',\n",
       " 'numerator',\n",
       " 'real',\n",
       " 'to_bytes']"
      ]
     },
     "execution_count": 9,
     "metadata": {},
     "output_type": "execute_result"
    }
   ],
   "source": [
    "dir(4)"
   ]
  },
  {
   "cell_type": "code",
   "execution_count": 1,
   "id": "requested-rally",
   "metadata": {},
   "outputs": [],
   "source": [
    "l=['rvr','152','ece','176']\n",
    "l.extend([1,2,3])"
   ]
  },
  {
   "cell_type": "code",
   "execution_count": 2,
   "id": "acquired-publicity",
   "metadata": {},
   "outputs": [
    {
     "name": "stdout",
     "output_type": "stream",
     "text": [
      "['rvr', '152', 'ece', '176', 1, 2, 3]\n"
     ]
    }
   ],
   "source": [
    "print(l)"
   ]
  },
  {
   "cell_type": "code",
   "execution_count": 3,
   "id": "immune-berkeley",
   "metadata": {},
   "outputs": [],
   "source": [
    "l.insert(-1,'rvr')"
   ]
  },
  {
   "cell_type": "code",
   "execution_count": 4,
   "id": "marine-poultry",
   "metadata": {},
   "outputs": [
    {
     "data": {
      "text/plain": [
       "['rvr', '152', 'ece', '176', 1, 2, 'rvr', 3]"
      ]
     },
     "execution_count": 4,
     "metadata": {},
     "output_type": "execute_result"
    }
   ],
   "source": [
    "l"
   ]
  },
  {
   "cell_type": "code",
   "execution_count": 5,
   "id": "little-wiring",
   "metadata": {},
   "outputs": [],
   "source": [
    "l.insert(1,'ram')"
   ]
  },
  {
   "cell_type": "code",
   "execution_count": 6,
   "id": "patient-illness",
   "metadata": {},
   "outputs": [
    {
     "data": {
      "text/plain": [
       "['rvr', 'ram', '152', 'ece', '176', 1, 2, 'rvr', 3]"
      ]
     },
     "execution_count": 6,
     "metadata": {},
     "output_type": "execute_result"
    }
   ],
   "source": [
    "l"
   ]
  },
  {
   "cell_type": "code",
   "execution_count": 7,
   "id": "confused-greenhouse",
   "metadata": {},
   "outputs": [],
   "source": [
    "l.extend([1])"
   ]
  },
  {
   "cell_type": "code",
   "execution_count": 8,
   "id": "flying-invalid",
   "metadata": {},
   "outputs": [
    {
     "data": {
      "text/plain": [
       "['rvr', 'ram', '152', 'ece', '176', 1, 2, 'rvr', 3, 1]"
      ]
     },
     "execution_count": 8,
     "metadata": {},
     "output_type": "execute_result"
    }
   ],
   "source": [
    "l"
   ]
  },
  {
   "cell_type": "code",
   "execution_count": 9,
   "id": "addressed-arrangement",
   "metadata": {},
   "outputs": [
    {
     "data": {
      "text/plain": [
       "1"
      ]
     },
     "execution_count": 9,
     "metadata": {},
     "output_type": "execute_result"
    }
   ],
   "source": [
    "l.pop()"
   ]
  },
  {
   "cell_type": "code",
   "execution_count": 10,
   "id": "arbitrary-blackjack",
   "metadata": {},
   "outputs": [
    {
     "data": {
      "text/plain": [
       "['rvr', 'ram', '152', 'ece', '176', 1, 2, 'rvr', 3]"
      ]
     },
     "execution_count": 10,
     "metadata": {},
     "output_type": "execute_result"
    }
   ],
   "source": [
    "l"
   ]
  },
  {
   "cell_type": "code",
   "execution_count": 11,
   "id": "later-above",
   "metadata": {},
   "outputs": [
    {
     "data": {
      "text/plain": [
       "3"
      ]
     },
     "execution_count": 11,
     "metadata": {},
     "output_type": "execute_result"
    }
   ],
   "source": [
    "l.pop()"
   ]
  },
  {
   "cell_type": "code",
   "execution_count": 12,
   "id": "forbidden-organic",
   "metadata": {},
   "outputs": [
    {
     "data": {
      "text/plain": [
       "['rvr', 'ram', '152', 'ece', '176', 1, 2, 'rvr']"
      ]
     },
     "execution_count": 12,
     "metadata": {},
     "output_type": "execute_result"
    }
   ],
   "source": [
    "l"
   ]
  },
  {
   "cell_type": "code",
   "execution_count": 13,
   "id": "entire-subdivision",
   "metadata": {},
   "outputs": [],
   "source": [
    "l.remove(2)"
   ]
  },
  {
   "cell_type": "code",
   "execution_count": 14,
   "id": "confident-savannah",
   "metadata": {},
   "outputs": [
    {
     "data": {
      "text/plain": [
       "['rvr', 'ram', '152', 'ece', '176', 1, 'rvr']"
      ]
     },
     "execution_count": 14,
     "metadata": {},
     "output_type": "execute_result"
    }
   ],
   "source": [
    "l"
   ]
  },
  {
   "cell_type": "code",
   "execution_count": 18,
   "id": "endangered-designation",
   "metadata": {},
   "outputs": [],
   "source": [
    "l.reverse()"
   ]
  },
  {
   "cell_type": "code",
   "execution_count": 19,
   "id": "minor-tobacco",
   "metadata": {},
   "outputs": [
    {
     "data": {
      "text/plain": [
       "['rvr', 1, '176', 'ece', '152', 'ram', 'rvr']"
      ]
     },
     "execution_count": 19,
     "metadata": {},
     "output_type": "execute_result"
    }
   ],
   "source": [
    "l"
   ]
  },
  {
   "cell_type": "code",
   "execution_count": 22,
   "id": "clean-application",
   "metadata": {},
   "outputs": [
    {
     "ename": "TypeError",
     "evalue": "'<' not supported between instances of 'int' and 'str'",
     "output_type": "error",
     "traceback": [
      "\u001b[1;31m---------------------------------------------------------------------------\u001b[0m",
      "\u001b[1;31mTypeError\u001b[0m                                 Traceback (most recent call last)",
      "\u001b[1;32m<ipython-input-22-fb07ac7c73ab>\u001b[0m in \u001b[0;36m<module>\u001b[1;34m\u001b[0m\n\u001b[1;32m----> 1\u001b[1;33m \u001b[0ml\u001b[0m\u001b[1;33m.\u001b[0m\u001b[0msort\u001b[0m\u001b[1;33m(\u001b[0m\u001b[1;33m)\u001b[0m\u001b[1;33m\u001b[0m\u001b[1;33m\u001b[0m\u001b[0m\n\u001b[0m",
      "\u001b[1;31mTypeError\u001b[0m: '<' not supported between instances of 'int' and 'str'"
     ]
    }
   ],
   "source": [
    "l.sort()"
   ]
  },
  {
   "cell_type": "code",
   "execution_count": 23,
   "id": "quantitative-david",
   "metadata": {},
   "outputs": [],
   "source": [
    "name=['sekhar','hema']\n",
    "name.sort()"
   ]
  },
  {
   "cell_type": "code",
   "execution_count": 24,
   "id": "controlled-bankruptcy",
   "metadata": {},
   "outputs": [
    {
     "data": {
      "text/plain": [
       "['hema', 'sekhar']"
      ]
     },
     "execution_count": 24,
     "metadata": {},
     "output_type": "execute_result"
    }
   ],
   "source": [
    "name"
   ]
  },
  {
   "cell_type": "code",
   "execution_count": 26,
   "id": "capable-insert",
   "metadata": {},
   "outputs": [
    {
     "name": "stdout",
     "output_type": "stream",
     "text": [
      "[5, 4, 3, 2, 1]\n"
     ]
    }
   ],
   "source": [
    "n=[1,2,3,4,5]\n",
    "n.sort(reverse= True)\n",
    "print(n)\n"
   ]
  },
  {
   "cell_type": "code",
   "execution_count": 27,
   "id": "dependent-isolation",
   "metadata": {},
   "outputs": [],
   "source": [
    "n.sort(reverse= False)\n"
   ]
  },
  {
   "cell_type": "code",
   "execution_count": 28,
   "id": "cultural-locator",
   "metadata": {},
   "outputs": [
    {
     "data": {
      "text/plain": [
       "[1, 2, 3, 4, 5]"
      ]
     },
     "execution_count": 28,
     "metadata": {},
     "output_type": "execute_result"
    }
   ],
   "source": [
    "n"
   ]
  },
  {
   "cell_type": "code",
   "execution_count": 30,
   "id": "faced-dependence",
   "metadata": {},
   "outputs": [
    {
     "name": "stdout",
     "output_type": "stream",
     "text": [
      "1\n",
      "3\n",
      "4\n",
      "5\n",
      "6\n",
      "20\n"
     ]
    }
   ],
   "source": [
    "n=[1,20,3,4,5,6]\n",
    "for i in n:\n",
    "    if i>0:\n",
    "        n.sort(reverse= False)\n",
    "        print(i)\n",
    "    else:\n",
    "        print(error)\n"
   ]
  },
  {
   "cell_type": "code",
   "execution_count": 14,
   "id": "incorporated-jewel",
   "metadata": {},
   "outputs": [
    {
     "name": "stdout",
     "output_type": "stream",
     "text": [
      "[1, 2, 3, 4, 5]\n",
      "['\"Ramu\"', '\"Avinash\"', '\"Raj\"', '\"Srinivas\"', '\"Gopi\"']\n"
     ]
    }
   ],
   "source": [
    "a= '1,2,3,4,5,\"Ramu\",\"Avinash\",\"Raj\",\"Srinivas\",\"Gopi\"'\n",
    "numbers=[]\n",
    "names=[]\n",
    "a=a.split(',')\n",
    "for i in a:\n",
    "    if i.isdigit():\n",
    "        numbers.append(int(i))\n",
    "    else:\n",
    "        names.append(i)\n",
    "print(numbers)\n",
    "print(names)\n",
    "    \n"
   ]
  },
  {
   "cell_type": "code",
   "execution_count": 25,
   "id": "asian-incident",
   "metadata": {},
   "outputs": [],
   "source": [
    "a='2.0,23,\"rvr\"'\n"
   ]
  },
  {
   "cell_type": "code",
   "execution_count": 32,
   "id": "awful-latvia",
   "metadata": {},
   "outputs": [
    {
     "data": {
      "text/plain": [
       "float"
      ]
     },
     "execution_count": 32,
     "metadata": {},
     "output_type": "execute_result"
    }
   ],
   "source": [
    "type(2.0)"
   ]
  },
  {
   "cell_type": "markdown",
   "id": "incredible-karen",
   "metadata": {},
   "source": [
    "### Dictionaries\n",
    "- format{80:83}\n",
    "- having keys and values\n",
    "-  denoted {key:value}\n",
    "-   dict()\n"
   ]
  },
  {
   "cell_type": "code",
   "execution_count": 45,
   "id": "boring-depression",
   "metadata": {},
   "outputs": [
    {
     "name": "stdout",
     "output_type": "stream",
     "text": [
      "{1: 'One', 2: 'Two', 3: 'Three'}\n"
     ]
    }
   ],
   "source": [
    "g={1:\"One\",2:\"Two\",3:\"Three\"}\n",
    "print(g)"
   ]
  },
  {
   "cell_type": "code",
   "execution_count": 37,
   "id": "qualified-persian",
   "metadata": {},
   "outputs": [
    {
     "data": {
      "text/plain": [
       "dict"
      ]
     },
     "execution_count": 37,
     "metadata": {},
     "output_type": "execute_result"
    }
   ],
   "source": [
    "type(g)"
   ]
  },
  {
   "cell_type": "code",
   "execution_count": 38,
   "id": "quick-session",
   "metadata": {},
   "outputs": [
    {
     "data": {
      "text/plain": [
       "'one'"
      ]
     },
     "execution_count": 38,
     "metadata": {},
     "output_type": "execute_result"
    }
   ],
   "source": [
    "g[1]"
   ]
  },
  {
   "cell_type": "code",
   "execution_count": 41,
   "id": "authentic-brighton",
   "metadata": {},
   "outputs": [
    {
     "data": {
      "text/plain": [
       "'two'"
      ]
     },
     "execution_count": 41,
     "metadata": {},
     "output_type": "execute_result"
    }
   ],
   "source": [
    "g[2]"
   ]
  },
  {
   "cell_type": "code",
   "execution_count": 42,
   "id": "strange-front",
   "metadata": {},
   "outputs": [
    {
     "data": {
      "text/plain": [
       "'three'"
      ]
     },
     "execution_count": 42,
     "metadata": {},
     "output_type": "execute_result"
    }
   ],
   "source": [
    "g[3]"
   ]
  },
  {
   "cell_type": "code",
   "execution_count": 48,
   "id": "dramatic-customs",
   "metadata": {},
   "outputs": [
    {
     "data": {
      "text/plain": [
       "['__class__',\n",
       " '__contains__',\n",
       " '__delattr__',\n",
       " '__delitem__',\n",
       " '__dir__',\n",
       " '__doc__',\n",
       " '__eq__',\n",
       " '__format__',\n",
       " '__ge__',\n",
       " '__getattribute__',\n",
       " '__getitem__',\n",
       " '__gt__',\n",
       " '__hash__',\n",
       " '__init__',\n",
       " '__init_subclass__',\n",
       " '__iter__',\n",
       " '__le__',\n",
       " '__len__',\n",
       " '__lt__',\n",
       " '__ne__',\n",
       " '__new__',\n",
       " '__reduce__',\n",
       " '__reduce_ex__',\n",
       " '__repr__',\n",
       " '__reversed__',\n",
       " '__setattr__',\n",
       " '__setitem__',\n",
       " '__sizeof__',\n",
       " '__str__',\n",
       " '__subclasshook__',\n",
       " 'clear',\n",
       " 'copy',\n",
       " 'fromkeys',\n",
       " 'get',\n",
       " 'items',\n",
       " 'keys',\n",
       " 'pop',\n",
       " 'popitem',\n",
       " 'setdefault',\n",
       " 'update',\n",
       " 'values']"
      ]
     },
     "execution_count": 48,
     "metadata": {},
     "output_type": "execute_result"
    }
   ],
   "source": [
    "dir(g)"
   ]
  },
  {
   "cell_type": "code",
   "execution_count": 49,
   "id": "ultimate-attention",
   "metadata": {},
   "outputs": [
    {
     "data": {
      "text/plain": [
       "dict_keys([1, 2, 3])"
      ]
     },
     "execution_count": 49,
     "metadata": {},
     "output_type": "execute_result"
    }
   ],
   "source": [
    "g.keys()"
   ]
  },
  {
   "cell_type": "code",
   "execution_count": 50,
   "id": "dramatic-lotus",
   "metadata": {},
   "outputs": [
    {
     "data": {
      "text/plain": [
       "dict_values(['One', 'Two', 'Three'])"
      ]
     },
     "execution_count": 50,
     "metadata": {},
     "output_type": "execute_result"
    }
   ],
   "source": [
    "g.values()"
   ]
  },
  {
   "cell_type": "code",
   "execution_count": 52,
   "id": "alive-version",
   "metadata": {},
   "outputs": [
    {
     "data": {
      "text/plain": [
       "'One'"
      ]
     },
     "execution_count": 52,
     "metadata": {},
     "output_type": "execute_result"
    }
   ],
   "source": [
    "g.get(1)"
   ]
  },
  {
   "cell_type": "code",
   "execution_count": 53,
   "id": "voluntary-screen",
   "metadata": {},
   "outputs": [
    {
     "data": {
      "text/plain": [
       "dict_items([(1, 'One'), (2, 'Two'), (3, 'Three')])"
      ]
     },
     "execution_count": 53,
     "metadata": {},
     "output_type": "execute_result"
    }
   ],
   "source": [
    "g.items()"
   ]
  },
  {
   "cell_type": "code",
   "execution_count": 55,
   "id": "authentic-praise",
   "metadata": {},
   "outputs": [
    {
     "data": {
      "text/plain": [
       "'One'"
      ]
     },
     "execution_count": 55,
     "metadata": {},
     "output_type": "execute_result"
    }
   ],
   "source": [
    "g.pop(1)"
   ]
  },
  {
   "cell_type": "code",
   "execution_count": 57,
   "id": "rocky-friendship",
   "metadata": {},
   "outputs": [
    {
     "data": {
      "text/plain": [
       "(3, 'Three')"
      ]
     },
     "execution_count": 57,
     "metadata": {},
     "output_type": "execute_result"
    }
   ],
   "source": [
    "g.popitem()"
   ]
  },
  {
   "cell_type": "code",
   "execution_count": 58,
   "id": "numerical-gross",
   "metadata": {},
   "outputs": [
    {
     "data": {
      "text/plain": [
       "{2: 'Two'}"
      ]
     },
     "execution_count": 58,
     "metadata": {},
     "output_type": "execute_result"
    }
   ],
   "source": [
    "g"
   ]
  },
  {
   "cell_type": "code",
   "execution_count": 59,
   "id": "informative-ambassador",
   "metadata": {},
   "outputs": [],
   "source": [
    "g.update()"
   ]
  },
  {
   "cell_type": "code",
   "execution_count": 60,
   "id": "collected-skill",
   "metadata": {},
   "outputs": [
    {
     "data": {
      "text/plain": [
       "{2: 'Two'}"
      ]
     },
     "execution_count": 60,
     "metadata": {},
     "output_type": "execute_result"
    }
   ],
   "source": [
    "g"
   ]
  },
  {
   "cell_type": "code",
   "execution_count": 61,
   "id": "occupational-dairy",
   "metadata": {},
   "outputs": [],
   "source": [
    "g[\"name\"]=\"sekhar\""
   ]
  },
  {
   "cell_type": "code",
   "execution_count": 62,
   "id": "worth-sunglasses",
   "metadata": {},
   "outputs": [
    {
     "data": {
      "text/plain": [
       "{2: 'Two', 'name': 'sekhar'}"
      ]
     },
     "execution_count": 62,
     "metadata": {},
     "output_type": "execute_result"
    }
   ],
   "source": [
    "g"
   ]
  },
  {
   "cell_type": "code",
   "execution_count": 70,
   "id": "multiple-approach",
   "metadata": {},
   "outputs": [],
   "source": [
    "g.update({2:'123'})"
   ]
  },
  {
   "cell_type": "code",
   "execution_count": 71,
   "id": "separated-vatican",
   "metadata": {},
   "outputs": [
    {
     "data": {
      "text/plain": [
       "{2: '123', 'name': 'sekhar'}"
      ]
     },
     "execution_count": 71,
     "metadata": {},
     "output_type": "execute_result"
    }
   ],
   "source": [
    "g"
   ]
  },
  {
   "cell_type": "code",
   "execution_count": 80,
   "id": "initial-paraguay",
   "metadata": {},
   "outputs": [
    {
     "data": {
      "text/plain": [
       "{1: None, 'ram': None}"
      ]
     },
     "execution_count": 80,
     "metadata": {},
     "output_type": "execute_result"
    }
   ],
   "source": [
    "g.fromkeys({1,'ram'})"
   ]
  },
  {
   "cell_type": "code",
   "execution_count": null,
   "id": "pacific-french",
   "metadata": {},
   "outputs": [],
   "source": []
  }
 ],
 "metadata": {
  "kernelspec": {
   "display_name": "Python 3",
   "language": "python",
   "name": "python3"
  },
  "language_info": {
   "codemirror_mode": {
    "name": "ipython",
    "version": 3
   },
   "file_extension": ".py",
   "mimetype": "text/x-python",
   "name": "python",
   "nbconvert_exporter": "python",
   "pygments_lexer": "ipython3",
   "version": "3.8.0"
  }
 },
 "nbformat": 4,
 "nbformat_minor": 5
}
