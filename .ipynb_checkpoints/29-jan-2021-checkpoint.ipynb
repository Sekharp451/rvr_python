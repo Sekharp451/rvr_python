{
 "cells": [
  {
   "cell_type": "markdown",
   "id": "complete-receiver",
   "metadata": {},
   "source": [
    "### strings conti..\n",
    "## data structures in python\n",
    "#"
   ]
  },
  {
   "cell_type": "code",
   "execution_count": 4,
   "id": "computational-extreme",
   "metadata": {},
   "outputs": [
    {
     "data": {
      "text/plain": [
       "'vvvrvr ecevvvv'"
      ]
     },
     "execution_count": 4,
     "metadata": {},
     "output_type": "execute_result"
    }
   ],
   "source": [
    "g='rvr ece'\n",
    "g.center(14,\"v\")"
   ]
  },
  {
   "cell_type": "code",
   "execution_count": 19,
   "id": "danish-wellington",
   "metadata": {},
   "outputs": [
    {
     "data": {
      "text/plain": [
       "'my mail is:sekharpyla123@gmail.com'"
      ]
     },
     "execution_count": 19,
     "metadata": {},
     "output_type": "execute_result"
    }
   ],
   "source": [
    "a=\"my name is:{}\"\n",
    "name =\"sekhar pyla\"\n",
    "a.format(name)\n",
    "b=\"my roll is:{}\"\n",
    "roll = \"152\"\n",
    "b.format(roll)\n",
    "c=\"my mail is:{}\"\n",
    "mail = \"sekharpyla123@gmail.com\"\n",
    "c.format(mail)\n"
   ]
  },
  {
   "cell_type": "code",
   "execution_count": 18,
   "id": "vertical-morocco",
   "metadata": {},
   "outputs": [
    {
     "data": {
      "text/plain": [
       "'my roll is:152'"
      ]
     },
     "execution_count": 18,
     "metadata": {},
     "output_type": "execute_result"
    }
   ],
   "source": [
    "a=\"my roll is:{}\"\n",
    "roll=\"152\"\n",
    "a.format(roll)\n"
   ]
  },
  {
   "cell_type": "code",
   "execution_count": 21,
   "id": "noble-compound",
   "metadata": {},
   "outputs": [
    {
     "data": {
      "text/plain": [
       "False"
      ]
     },
     "execution_count": 21,
     "metadata": {},
     "output_type": "execute_result"
    }
   ],
   "source": [
    "a=\"ec123#\"\n",
    "a.isalnum()"
   ]
  },
  {
   "cell_type": "code",
   "execution_count": 25,
   "id": "compliant-relations",
   "metadata": {},
   "outputs": [
    {
     "data": {
      "text/plain": [
       "False"
      ]
     },
     "execution_count": 25,
     "metadata": {},
     "output_type": "execute_result"
    }
   ],
   "source": [
    "a.isalpha()"
   ]
  },
  {
   "cell_type": "code",
   "execution_count": 27,
   "id": "scheduled-wrapping",
   "metadata": {},
   "outputs": [
    {
     "data": {
      "text/plain": [
       "'sekhar pyla'"
      ]
     },
     "execution_count": 27,
     "metadata": {},
     "output_type": "execute_result"
    }
   ],
   "source": [
    "name"
   ]
  },
  {
   "cell_type": "code",
   "execution_count": 29,
   "id": "hindu-lewis",
   "metadata": {},
   "outputs": [
    {
     "data": {
      "text/plain": [
       "2"
      ]
     },
     "execution_count": 29,
     "metadata": {},
     "output_type": "execute_result"
    }
   ],
   "source": [
    "name.find('k')"
   ]
  },
  {
   "cell_type": "code",
   "execution_count": 33,
   "id": "adequate-header",
   "metadata": {},
   "outputs": [
    {
     "data": {
      "text/plain": [
       "9"
      ]
     },
     "execution_count": 33,
     "metadata": {},
     "output_type": "execute_result"
    }
   ],
   "source": [
    "name.find('la')"
   ]
  },
  {
   "cell_type": "code",
   "execution_count": 38,
   "id": "grateful-pressing",
   "metadata": {},
   "outputs": [
    {
     "data": {
      "text/plain": [
       "'hekhar pyla'"
      ]
     },
     "execution_count": 38,
     "metadata": {},
     "output_type": "execute_result"
    }
   ],
   "source": [
    "name.replace('s','h')"
   ]
  },
  {
   "cell_type": "code",
   "execution_count": 37,
   "id": "driving-gather",
   "metadata": {},
   "outputs": [
    {
     "data": {
      "text/plain": [
       "'rocky'"
      ]
     },
     "execution_count": 37,
     "metadata": {},
     "output_type": "execute_result"
    }
   ],
   "source": [
    "name.replace('sekhar pyla','rocky')"
   ]
  },
  {
   "cell_type": "code",
   "execution_count": 39,
   "id": "sought-amateur",
   "metadata": {},
   "outputs": [
    {
     "data": {
      "text/plain": [
       "'sekhjr pylj'"
      ]
     },
     "execution_count": 39,
     "metadata": {},
     "output_type": "execute_result"
    }
   ],
   "source": [
    "name.replace('a','j')"
   ]
  },
  {
   "cell_type": "code",
   "execution_count": 40,
   "id": "seeing-rover",
   "metadata": {
    "scrolled": true
   },
   "outputs": [
    {
     "data": {
      "text/plain": [
       "'SEKHAR PYLA'"
      ]
     },
     "execution_count": 40,
     "metadata": {},
     "output_type": "execute_result"
    }
   ],
   "source": [
    "name.swapcase()"
   ]
  },
  {
   "cell_type": "code",
   "execution_count": 57,
   "id": "dynamic-specification",
   "metadata": {},
   "outputs": [
    {
     "data": {
      "text/plain": [
       "'HELLO APZZDC'"
      ]
     },
     "execution_count": 57,
     "metadata": {},
     "output_type": "execute_result"
    }
   ],
   "source": [
    "#translate\n",
    "d={83:90}\n",
    "s=\"HELLO APSSDC\"\n",
    "s.translate(d)\n",
    "#chr(83)\n"
   ]
  },
  {
   "cell_type": "code",
   "execution_count": 8,
   "id": "surgical-closing",
   "metadata": {},
   "outputs": [
    {
     "data": {
      "text/plain": [
       "True"
      ]
     },
     "execution_count": 8,
     "metadata": {},
     "output_type": "execute_result"
    }
   ],
   "source": [
    "# starts with\n",
    "s=\"APSSDC\"\n",
    "s.startswith('A')"
   ]
  },
  {
   "cell_type": "code",
   "execution_count": 13,
   "id": "voluntary-adrian",
   "metadata": {},
   "outputs": [
    {
     "data": {
      "text/plain": [
       "4"
      ]
     },
     "execution_count": 13,
     "metadata": {},
     "output_type": "execute_result"
    }
   ],
   "source": [
    "#INDEX\n",
    "s.index('DC')"
   ]
  },
  {
   "cell_type": "code",
   "execution_count": 15,
   "id": "boring-insulin",
   "metadata": {},
   "outputs": [
    {
     "data": {
      "text/plain": [
       "True"
      ]
     },
     "execution_count": 15,
     "metadata": {},
     "output_type": "execute_result"
    }
   ],
   "source": [
    "#ISUPPER\n",
    "s.isupper()"
   ]
  },
  {
   "cell_type": "code",
   "execution_count": 16,
   "id": "healthy-bargain",
   "metadata": {},
   "outputs": [
    {
     "data": {
      "text/plain": [
       "False"
      ]
     },
     "execution_count": 16,
     "metadata": {},
     "output_type": "execute_result"
    }
   ],
   "source": [
    "s.islower()"
   ]
  },
  {
   "cell_type": "code",
   "execution_count": 47,
   "id": "magnetic-pleasure",
   "metadata": {},
   "outputs": [
    {
     "name": "stdout",
     "output_type": "stream",
     "text": [
      "37\n"
     ]
    }
   ],
   "source": [
    "#calculate the length of the string?\n",
    "a=\" python programming for ece dept....!\"\n",
    "count=0\n",
    "for i in a:\n",
    "    count+=1\n",
    "print(count)"
   ]
  },
  {
   "cell_type": "code",
   "execution_count": 48,
   "id": "stuck-circular",
   "metadata": {},
   "outputs": [
    {
     "data": {
      "text/plain": [
       "'ece'"
      ]
     },
     "execution_count": 48,
     "metadata": {},
     "output_type": "execute_result"
    }
   ],
   "source": [
    "a[-13:-10]"
   ]
  },
  {
   "cell_type": "code",
   "execution_count": 68,
   "id": "explicit-establishment",
   "metadata": {},
   "outputs": [
    {
     "name": "stdout",
     "output_type": "stream",
     "text": [
      "AbcdEfghIjklmO"
     ]
    }
   ],
   "source": [
    "s='abcdefghijklmo'\n",
    "s1='aeio'\n",
    "for i in s:\n",
    "    if i in s1:\n",
    "        print(i.swapcase(),end='')\n",
    "    else:\n",
    "        print(i,end='')\n"
   ]
  },
  {
   "cell_type": "markdown",
   "id": "neural-proposal",
   "metadata": {},
   "source": [
    "## task1\n",
    "###   - abc mno\n",
    "###   - def pqr\n"
   ]
  },
  {
   "cell_type": "markdown",
   "id": "altered-remains",
   "metadata": {},
   "source": [
    "## DATA STRUCTURES  IN PYTHON PROGRAMMING"
   ]
  },
  {
   "cell_type": "markdown",
   "id": "talented-sentence",
   "metadata": {},
   "source": [
    "## LIST\n",
    "###   - stores different data types like strings"
   ]
  },
  {
   "cell_type": "code",
   "execution_count": 81,
   "id": "bizarre-junction",
   "metadata": {},
   "outputs": [
    {
     "data": {
      "text/plain": [
       "[1, 2, 3]"
      ]
     },
     "execution_count": 81,
     "metadata": {},
     "output_type": "execute_result"
    }
   ],
   "source": [
    "l1=['rvr','ece','152',[1,2,3]]\n",
    "l1[3]"
   ]
  },
  {
   "cell_type": "code",
   "execution_count": 72,
   "id": "hindu-louis",
   "metadata": {},
   "outputs": [
    {
     "data": {
      "text/plain": [
       "'152'"
      ]
     },
     "execution_count": 72,
     "metadata": {},
     "output_type": "execute_result"
    }
   ],
   "source": [
    "l1[-1]"
   ]
  },
  {
   "cell_type": "code",
   "execution_count": 73,
   "id": "contrary-client",
   "metadata": {},
   "outputs": [
    {
     "data": {
      "text/plain": [
       "['ece']"
      ]
     },
     "execution_count": 73,
     "metadata": {},
     "output_type": "execute_result"
    }
   ],
   "source": [
    "l1[1:2]"
   ]
  },
  {
   "cell_type": "code",
   "execution_count": 74,
   "id": "novel-moore",
   "metadata": {},
   "outputs": [
    {
     "data": {
      "text/plain": [
       "['ece', '152']"
      ]
     },
     "execution_count": 74,
     "metadata": {},
     "output_type": "execute_result"
    }
   ],
   "source": [
    "l1[1:3]"
   ]
  },
  {
   "cell_type": "code",
   "execution_count": 82,
   "id": "closed-gentleman",
   "metadata": {},
   "outputs": [
    {
     "data": {
      "text/plain": [
       "[1, 2, 3]"
      ]
     },
     "execution_count": 82,
     "metadata": {},
     "output_type": "execute_result"
    }
   ],
   "source": [
    "l1=['rvr','ece','152',[1,2,3]]\n",
    "l1[-1]"
   ]
  },
  {
   "cell_type": "code",
   "execution_count": 83,
   "id": "ordinary-windsor",
   "metadata": {},
   "outputs": [
    {
     "data": {
      "text/plain": [
       "2"
      ]
     },
     "execution_count": 83,
     "metadata": {},
     "output_type": "execute_result"
    }
   ],
   "source": [
    "l1[-1][1]"
   ]
  },
  {
   "cell_type": "code",
   "execution_count": 85,
   "id": "imposed-undergraduate",
   "metadata": {},
   "outputs": [],
   "source": [
    "a=\"SDC\"\n",
    "b=[1,2,3]\n",
    "del b"
   ]
  },
  {
   "cell_type": "code",
   "execution_count": 86,
   "id": "beginning-access",
   "metadata": {},
   "outputs": [
    {
     "name": "stdout",
     "output_type": "stream",
     "text": [
      "SDC\n"
     ]
    }
   ],
   "source": [
    "print(a)"
   ]
  },
  {
   "cell_type": "code",
   "execution_count": 90,
   "id": "consolidated-wiring",
   "metadata": {},
   "outputs": [
    {
     "data": {
      "text/plain": [
       "[[1, 2, 3], '152', 'ece', 'rvr']"
      ]
     },
     "execution_count": 90,
     "metadata": {},
     "output_type": "execute_result"
    }
   ],
   "source": [
    "l1.reverse()\n",
    "l1"
   ]
  },
  {
   "cell_type": "code",
   "execution_count": null,
   "id": "fleet-survey",
   "metadata": {},
   "outputs": [],
   "source": []
  }
 ],
 "metadata": {
  "kernelspec": {
   "display_name": "Python 3",
   "language": "python",
   "name": "python3"
  },
  "language_info": {
   "codemirror_mode": {
    "name": "ipython",
    "version": 3
   },
   "file_extension": ".py",
   "mimetype": "text/x-python",
   "name": "python",
   "nbconvert_exporter": "python",
   "pygments_lexer": "ipython3",
   "version": "3.8.0"
  }
 },
 "nbformat": 4,
 "nbformat_minor": 5
}
