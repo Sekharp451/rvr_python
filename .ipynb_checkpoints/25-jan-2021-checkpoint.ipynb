{
 "cells": [
  {
   "cell_type": "code",
   "execution_count": 1,
   "id": "suspended-thompson",
   "metadata": {},
   "outputs": [
    {
     "name": "stdout",
     "output_type": "stream",
     "text": [
      "hello world\n"
     ]
    }
   ],
   "source": [
    "print(\"hello world\")"
   ]
  },
  {
   "cell_type": "code",
   "execution_count": 3,
   "id": "copyrighted-mechanism",
   "metadata": {},
   "outputs": [
    {
     "data": {
      "text/plain": [
       "range(1, 10, 2)"
      ]
     },
     "execution_count": 3,
     "metadata": {},
     "output_type": "execute_result"
    }
   ],
   "source": [
    "range(1,10,2)"
   ]
  },
  {
   "cell_type": "markdown",
   "id": "saving-morgan",
   "metadata": {},
   "source": [
    "# 1 -intial value\n",
    "# 10-final value\n",
    "# 2 -difference"
   ]
  },
  {
   "cell_type": "markdown",
   "id": "basic-advance",
   "metadata": {},
   "source": [
    "# syntax\n",
    "  # for var in range(start,end,diff):\n",
    "   # statements"
   ]
  },
  {
   "cell_type": "code",
   "execution_count": 1,
   "id": "configured-competition",
   "metadata": {},
   "outputs": [
    {
     "name": "stdout",
     "output_type": "stream",
     "text": [
      "enter a namesekhar\n",
      "sekhar\n",
      "sekhar\n",
      "sekhar\n",
      "sekhar\n",
      "sekhar\n",
      "sekhar\n",
      "sekhar\n",
      "sekhar\n",
      "sekhar\n",
      "sekhar\n"
     ]
    }
   ],
   "source": [
    "a= input(\"enter a name\")\n",
    "for i in range(1,11):\n",
    "    print(a)"
   ]
  },
  {
   "cell_type": "code",
   "execution_count": 8,
   "id": "adapted-device",
   "metadata": {},
   "outputs": [
    {
     "name": "stdout",
     "output_type": "stream",
     "text": [
      "enter table number:18\n",
      "enter table length:20\n",
      "18 * 1 = 18\n",
      "18 * 2 = 36\n",
      "18 * 3 = 54\n",
      "18 * 4 = 72\n",
      "18 * 5 = 90\n",
      "18 * 6 = 108\n",
      "18 * 7 = 126\n",
      "18 * 8 = 144\n",
      "18 * 9 = 162\n",
      "18 * 10 = 180\n",
      "18 * 11 = 198\n",
      "18 * 12 = 216\n",
      "18 * 13 = 234\n",
      "18 * 14 = 252\n",
      "18 * 15 = 270\n",
      "18 * 16 = 288\n",
      "18 * 17 = 306\n",
      "18 * 18 = 324\n",
      "18 * 19 = 342\n",
      "18 * 20 = 360\n"
     ]
    }
   ],
   "source": [
    "t=int(input('enter table number:'))\n",
    "t_len=int(input('enter table length:'))\n",
    "for i in range(1,t_len+1):\n",
    "    #18 * 1 = 18\n",
    "    print('{} * {} = {}'. format(t,i,t*i) )"
   ]
  },
  {
   "cell_type": "code",
   "execution_count": 9,
   "id": "reduced-lincoln",
   "metadata": {},
   "outputs": [
    {
     "name": "stdout",
     "output_type": "stream",
     "text": [
      "enter number:6\n",
      "1\n",
      "2\n",
      "3\n",
      "6\n"
     ]
    }
   ],
   "source": [
    "n= int(input('enter number:'))\n",
    "for i in range(1,n+1):\n",
    "    if n%i==0:\n",
    "        print(i)"
   ]
  },
  {
   "cell_type": "code",
   "execution_count": 10,
   "id": "deluxe-delight",
   "metadata": {},
   "outputs": [
    {
     "name": "stdout",
     "output_type": "stream",
     "text": [
      "enter number:6\n",
      "1\n",
      "2\n",
      "3\n",
      "6\n",
      "no of factors: 4\n"
     ]
    }
   ],
   "source": [
    "  n= int(input('enter number:'))\n",
    "cnt=0\n",
    "for i in range(1,n+1):\n",
    "    if n%i==0:\n",
    "        cnt+=1\n",
    "        print(i)\n",
    "print(\"no of factors:\",cnt)"
   ]
  },
  {
   "cell_type": "code",
   "execution_count": 14,
   "id": "modular-disposal",
   "metadata": {},
   "outputs": [
    {
     "name": "stdout",
     "output_type": "stream",
     "text": [
      "enter number:2\n",
      "1\n",
      "2\n",
      "no of factors: 2\n",
      "prime number\n"
     ]
    }
   ],
   "source": [
    "  n= int(input('enter number:'))\n",
    "cnt=0\n",
    "for i in range(1,n+1):\n",
    "    if n%i==0:\n",
    "        cnt+=1\n",
    "        print(i)\n",
    "print(\"no of factors:\",cnt)\n",
    "if cnt ==2:\n",
    "    print('prime number')\n",
    "else:\n",
    "    print('not a prime number')"
   ]
  },
  {
   "cell_type": "markdown",
   "id": "surface-physiology",
   "metadata": {},
   "source": [
    "# while condition:\n",
    "   # statements\n",
    "      "
   ]
  },
  {
   "cell_type": "code",
   "execution_count": 1,
   "id": "decreased-remedy",
   "metadata": {},
   "outputs": [
    {
     "name": "stdout",
     "output_type": "stream",
     "text": [
      "1\n",
      "2\n",
      "3\n",
      "4\n",
      "5\n",
      "6\n",
      "7\n",
      "8\n",
      "9\n"
     ]
    }
   ],
   "source": [
    "i=1\n",
    "while i<10:\n",
    "    print(i)\n",
    "    i+=1"
   ]
  },
  {
   "cell_type": "code",
   "execution_count": null,
   "id": "israeli-victor",
   "metadata": {},
   "outputs": [],
   "source": []
  }
 ],
 "metadata": {
  "kernelspec": {
   "display_name": "Python 3",
   "language": "python",
   "name": "python3"
  },
  "language_info": {
   "codemirror_mode": {
    "name": "ipython",
    "version": 3
   },
   "file_extension": ".py",
   "mimetype": "text/x-python",
   "name": "python",
   "nbconvert_exporter": "python",
   "pygments_lexer": "ipython3",
   "version": "3.8.0"
  }
 },
 "nbformat": 4,
 "nbformat_minor": 5
}
