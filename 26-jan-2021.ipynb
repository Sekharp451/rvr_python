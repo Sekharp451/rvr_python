{
 "cells": [
  {
   "cell_type": "code",
   "execution_count": 1,
   "id": "interracial-spencer",
   "metadata": {},
   "outputs": [
    {
     "name": "stdout",
     "output_type": "stream",
     "text": [
      "enter number:12\n",
      "not perfect number\n"
     ]
    }
   ],
   "source": [
    "n= int(input('enter number:'))\n",
    "s=0\n",
    "for i in range(1,n):\n",
    "    if n%i==0:\n",
    "        s+=i\n",
    "if s==n:\n",
    "       print(\"perfect number\")\n",
    "else:\n",
    "    print(\"not perfect number\")"
   ]
  },
  {
   "cell_type": "code",
   "execution_count": 4,
   "id": "boring-power",
   "metadata": {},
   "outputs": [
    {
     "name": "stdout",
     "output_type": "stream",
     "text": [
      "enter tables upto:10\n",
      "enter table length:20\n",
      " 1 * 1 = 1\n",
      " 1 * 2 = 2\n",
      " 1 * 3 = 3\n",
      " 1 * 4 = 4\n",
      " 1 * 5 = 5\n",
      " 1 * 6 = 6\n",
      " 1 * 7 = 7\n",
      " 1 * 8 = 8\n",
      " 1 * 9 = 9\n",
      " 1 * 10 = 10\n",
      " 1 * 11 = 11\n",
      " 1 * 12 = 12\n",
      " 1 * 13 = 13\n",
      " 1 * 14 = 14\n",
      " 1 * 15 = 15\n",
      " 1 * 16 = 16\n",
      " 1 * 17 = 17\n",
      " 1 * 18 = 18\n",
      " 1 * 19 = 19\n",
      " 1 * 20 = 20\n",
      " 2 * 1 = 2\n",
      " 2 * 2 = 4\n",
      " 2 * 3 = 6\n",
      " 2 * 4 = 8\n",
      " 2 * 5 = 10\n",
      " 2 * 6 = 12\n",
      " 2 * 7 = 14\n",
      " 2 * 8 = 16\n",
      " 2 * 9 = 18\n",
      " 2 * 10 = 20\n",
      " 2 * 11 = 22\n",
      " 2 * 12 = 24\n",
      " 2 * 13 = 26\n",
      " 2 * 14 = 28\n",
      " 2 * 15 = 30\n",
      " 2 * 16 = 32\n",
      " 2 * 17 = 34\n",
      " 2 * 18 = 36\n",
      " 2 * 19 = 38\n",
      " 2 * 20 = 40\n",
      " 3 * 1 = 3\n",
      " 3 * 2 = 6\n",
      " 3 * 3 = 9\n",
      " 3 * 4 = 12\n",
      " 3 * 5 = 15\n",
      " 3 * 6 = 18\n",
      " 3 * 7 = 21\n",
      " 3 * 8 = 24\n",
      " 3 * 9 = 27\n",
      " 3 * 10 = 30\n",
      " 3 * 11 = 33\n",
      " 3 * 12 = 36\n",
      " 3 * 13 = 39\n",
      " 3 * 14 = 42\n",
      " 3 * 15 = 45\n",
      " 3 * 16 = 48\n",
      " 3 * 17 = 51\n",
      " 3 * 18 = 54\n",
      " 3 * 19 = 57\n",
      " 3 * 20 = 60\n",
      " 4 * 1 = 4\n",
      " 4 * 2 = 8\n",
      " 4 * 3 = 12\n",
      " 4 * 4 = 16\n",
      " 4 * 5 = 20\n",
      " 4 * 6 = 24\n",
      " 4 * 7 = 28\n",
      " 4 * 8 = 32\n",
      " 4 * 9 = 36\n",
      " 4 * 10 = 40\n",
      " 4 * 11 = 44\n",
      " 4 * 12 = 48\n",
      " 4 * 13 = 52\n",
      " 4 * 14 = 56\n",
      " 4 * 15 = 60\n",
      " 4 * 16 = 64\n",
      " 4 * 17 = 68\n",
      " 4 * 18 = 72\n",
      " 4 * 19 = 76\n",
      " 4 * 20 = 80\n",
      " 5 * 1 = 5\n",
      " 5 * 2 = 10\n",
      " 5 * 3 = 15\n",
      " 5 * 4 = 20\n",
      " 5 * 5 = 25\n",
      " 5 * 6 = 30\n",
      " 5 * 7 = 35\n",
      " 5 * 8 = 40\n",
      " 5 * 9 = 45\n",
      " 5 * 10 = 50\n",
      " 5 * 11 = 55\n",
      " 5 * 12 = 60\n",
      " 5 * 13 = 65\n",
      " 5 * 14 = 70\n",
      " 5 * 15 = 75\n",
      " 5 * 16 = 80\n",
      " 5 * 17 = 85\n",
      " 5 * 18 = 90\n",
      " 5 * 19 = 95\n",
      " 5 * 20 = 100\n",
      " 6 * 1 = 6\n",
      " 6 * 2 = 12\n",
      " 6 * 3 = 18\n",
      " 6 * 4 = 24\n",
      " 6 * 5 = 30\n",
      " 6 * 6 = 36\n",
      " 6 * 7 = 42\n",
      " 6 * 8 = 48\n",
      " 6 * 9 = 54\n",
      " 6 * 10 = 60\n",
      " 6 * 11 = 66\n",
      " 6 * 12 = 72\n",
      " 6 * 13 = 78\n",
      " 6 * 14 = 84\n",
      " 6 * 15 = 90\n",
      " 6 * 16 = 96\n",
      " 6 * 17 = 102\n",
      " 6 * 18 = 108\n",
      " 6 * 19 = 114\n",
      " 6 * 20 = 120\n",
      " 7 * 1 = 7\n",
      " 7 * 2 = 14\n",
      " 7 * 3 = 21\n",
      " 7 * 4 = 28\n",
      " 7 * 5 = 35\n",
      " 7 * 6 = 42\n",
      " 7 * 7 = 49\n",
      " 7 * 8 = 56\n",
      " 7 * 9 = 63\n",
      " 7 * 10 = 70\n",
      " 7 * 11 = 77\n",
      " 7 * 12 = 84\n",
      " 7 * 13 = 91\n",
      " 7 * 14 = 98\n",
      " 7 * 15 = 105\n",
      " 7 * 16 = 112\n",
      " 7 * 17 = 119\n",
      " 7 * 18 = 126\n",
      " 7 * 19 = 133\n",
      " 7 * 20 = 140\n",
      " 8 * 1 = 8\n",
      " 8 * 2 = 16\n",
      " 8 * 3 = 24\n",
      " 8 * 4 = 32\n",
      " 8 * 5 = 40\n",
      " 8 * 6 = 48\n",
      " 8 * 7 = 56\n",
      " 8 * 8 = 64\n",
      " 8 * 9 = 72\n",
      " 8 * 10 = 80\n",
      " 8 * 11 = 88\n",
      " 8 * 12 = 96\n",
      " 8 * 13 = 104\n",
      " 8 * 14 = 112\n",
      " 8 * 15 = 120\n",
      " 8 * 16 = 128\n",
      " 8 * 17 = 136\n",
      " 8 * 18 = 144\n",
      " 8 * 19 = 152\n",
      " 8 * 20 = 160\n",
      " 9 * 1 = 9\n",
      " 9 * 2 = 18\n",
      " 9 * 3 = 27\n",
      " 9 * 4 = 36\n",
      " 9 * 5 = 45\n",
      " 9 * 6 = 54\n",
      " 9 * 7 = 63\n",
      " 9 * 8 = 72\n",
      " 9 * 9 = 81\n",
      " 9 * 10 = 90\n",
      " 9 * 11 = 99\n",
      " 9 * 12 = 108\n",
      " 9 * 13 = 117\n",
      " 9 * 14 = 126\n",
      " 9 * 15 = 135\n",
      " 9 * 16 = 144\n",
      " 9 * 17 = 153\n",
      " 9 * 18 = 162\n",
      " 9 * 19 = 171\n",
      " 9 * 20 = 180\n",
      " 10 * 1 = 10\n",
      " 10 * 2 = 20\n",
      " 10 * 3 = 30\n",
      " 10 * 4 = 40\n",
      " 10 * 5 = 50\n",
      " 10 * 6 = 60\n",
      " 10 * 7 = 70\n",
      " 10 * 8 = 80\n",
      " 10 * 9 = 90\n",
      " 10 * 10 = 100\n",
      " 10 * 11 = 110\n",
      " 10 * 12 = 120\n",
      " 10 * 13 = 130\n",
      " 10 * 14 = 140\n",
      " 10 * 15 = 150\n",
      " 10 * 16 = 160\n",
      " 10 * 17 = 170\n",
      " 10 * 18 = 180\n",
      " 10 * 19 = 190\n",
      " 10 * 20 = 200\n"
     ]
    }
   ],
   "source": [
    "t= int(input('enter tables upto:'))\n",
    "t_len=int(input('enter table length:'))\n",
    "for i in range(1,t+1):\n",
    "    for j in range(1,t_len+1):\n",
    "        print(' {} * {} = {}' .format(i,j,i*j))\n"
   ]
  },
  {
   "cell_type": "markdown",
   "id": "catholic-conversion",
   "metadata": {},
   "source": [
    "## functions\n",
    "  # - block of code to perform some operations \n",
    "  # - advantages:\n",
    "                -code reusability\n",
    "                -readbulity of the program\n",
    "                -code reduce\n",
    "                -time decrease\n",
    "       - types of functions:\n",
    "            -1. inbuilt/default functions:\n",
    "                     - ex.print,sum,max,min,int\n",
    "            -2. user define functions:\n",
    "                  - 1.function creation:\n",
    "                          -1.function declaration:\n",
    "                           def function name(arg):\n",
    "                          - 2.function defination:\n",
    "                             -statements\n",
    "                   - 2. function calling:\n",
    "                       - by using function name\n",
    "             -3. special functions:\n",
    "                 - lambda,comprehensions,iterators,map"
   ]
  },
  {
   "cell_type": "code",
   "execution_count": 5,
   "id": "annoying-isolation",
   "metadata": {},
   "outputs": [
    {
     "name": "stdout",
     "output_type": "stream",
     "text": [
      "9\n"
     ]
    }
   ],
   "source": [
    "#function creation:\n",
    "def add(a,b):\n",
    "    print(a+b)\n",
    "add(4,5)"
   ]
  },
  {
   "cell_type": "code",
   "execution_count": 6,
   "id": "starting-german",
   "metadata": {},
   "outputs": [
    {
     "name": "stdout",
     "output_type": "stream",
     "text": [
      "-3\n"
     ]
    }
   ],
   "source": [
    "def sub(a,b):\n",
    "    print(a-b)\n",
    "sub(3,6)"
   ]
  },
  {
   "cell_type": "markdown",
   "id": "located-constant",
   "metadata": {},
   "source": [
    "# types of user define functions:\n",
    "# based on return value\n",
    "    1. without arg and without return value \n",
    "    2. without arg and with return value\n",
    "    3. with arg and without return value \n",
    "    4. with arg and with return value"
   ]
  },
  {
   "cell_type": "code",
   "execution_count": 8,
   "id": "front-plymouth",
   "metadata": {},
   "outputs": [
    {
     "name": "stdout",
     "output_type": "stream",
     "text": [
      "enter n1 value4\n",
      "enter n2 value4\n",
      "addition is : 8\n",
      "subtraction is : 0\n",
      "multipication is : 16\n",
      "division is : 1.0\n"
     ]
    }
   ],
   "source": [
    "# with arg and without return \n",
    "n1= int(input('enter n1 value'))\n",
    "n2= int(input('enter n2 value'))\n",
    "def f2(n1,n2):\n",
    "    print('addition is :',n1+n2)\n",
    "    print('subtraction is :',n1-n2)\n",
    "    print('multipication is :',n1*n2)\n",
    "    print('division is :',n1/n2)\n",
    "f2(n1,n2)"
   ]
  },
  {
   "cell_type": "code",
   "execution_count": 11,
   "id": "incomplete-roman",
   "metadata": {},
   "outputs": [
    {
     "name": "stdout",
     "output_type": "stream",
     "text": [
      "enter n1 value2\n",
      "enter n2 value2\n",
      "add\n",
      "sub\n",
      "mul\n",
      "div\n"
     ]
    },
    {
     "data": {
      "text/plain": [
       "(4, 0, 4, 1.0)"
      ]
     },
     "execution_count": 11,
     "metadata": {},
     "output_type": "execute_result"
    }
   ],
   "source": [
    "n1=int(input('enter n1 value'))\n",
    "n2=int(input('enter n2 value'))\n",
    "def f3(n1,n2):\n",
    "    return n1+n2,n1-n2,n1*n2,n1/n2\n",
    "print('add')\n",
    "print('sub')\n",
    "print('mul')\n",
    "print('div')\n",
    "f3(n1,n2)"
   ]
  },
  {
   "cell_type": "code",
   "execution_count": null,
   "id": "increasing-sleeping",
   "metadata": {},
   "outputs": [],
   "source": []
  }
 ],
 "metadata": {
  "kernelspec": {
   "display_name": "Python 3",
   "language": "python",
   "name": "python3"
  },
  "language_info": {
   "codemirror_mode": {
    "name": "ipython",
    "version": 3
   },
   "file_extension": ".py",
   "mimetype": "text/x-python",
   "name": "python",
   "nbconvert_exporter": "python",
   "pygments_lexer": "ipython3",
   "version": "3.8.0"
  }
 },
 "nbformat": 4,
 "nbformat_minor": 5
}
